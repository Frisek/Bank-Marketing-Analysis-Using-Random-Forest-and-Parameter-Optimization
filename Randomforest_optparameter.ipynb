{
 "cells": [
  {
   "cell_type": "markdown",
   "metadata": {},
   "source": [
    "## Machine Learning \n",
    "### Meta-classifiers and Parameter Optimization\n"
   ]
  },
  {
   "cell_type": "markdown",
   "metadata": {},
   "source": [
    "En este ejemplo se muestra el aprendizaje con Random Forest, en el que\n",
    "realizamos una optimización de parámetros con validación cruzada."
   ]
  },
  {
   "cell_type": "code",
   "execution_count": 1,
   "metadata": {},
   "outputs": [],
   "source": [
    "import pandas as pd\n",
    "import numpy as np\n",
    "import matplotlib.pyplot as plt"
   ]
  },
  {
   "cell_type": "markdown",
   "metadata": {},
   "source": [
    "Utilizaremos el dataset del marketing telefonico de productos bancarios.  Por simplicidad haremos un preprocesado \n",
    "directo con la función get_dummies.  "
   ]
  },
  {
   "cell_type": "code",
   "execution_count": 2,
   "metadata": {},
   "outputs": [],
   "source": [
    "bank_marketing = pd.read_csv('../data/bank.csv', sep=';')"
   ]
  },
  {
   "cell_type": "code",
   "execution_count": 3,
   "metadata": {},
   "outputs": [],
   "source": [
    "from sklearn import preprocessing"
   ]
  },
  {
   "cell_type": "code",
   "execution_count": 4,
   "metadata": {},
   "outputs": [
    {
     "data": {
      "text/html": [
       "<div>\n",
       "<style scoped>\n",
       "    .dataframe tbody tr th:only-of-type {\n",
       "        vertical-align: middle;\n",
       "    }\n",
       "\n",
       "    .dataframe tbody tr th {\n",
       "        vertical-align: top;\n",
       "    }\n",
       "\n",
       "    .dataframe thead th {\n",
       "        text-align: right;\n",
       "    }\n",
       "</style>\n",
       "<table border=\"1\" class=\"dataframe\">\n",
       "  <thead>\n",
       "    <tr style=\"text-align: right;\">\n",
       "      <th></th>\n",
       "      <th>age</th>\n",
       "      <th>job</th>\n",
       "      <th>marital</th>\n",
       "      <th>education</th>\n",
       "      <th>default</th>\n",
       "      <th>balance</th>\n",
       "      <th>housing</th>\n",
       "      <th>loan</th>\n",
       "      <th>contact</th>\n",
       "      <th>day</th>\n",
       "      <th>month</th>\n",
       "      <th>duration</th>\n",
       "      <th>campaign</th>\n",
       "      <th>pdays</th>\n",
       "      <th>previous</th>\n",
       "      <th>poutcome</th>\n",
       "      <th>y</th>\n",
       "    </tr>\n",
       "  </thead>\n",
       "  <tbody>\n",
       "    <tr>\n",
       "      <th>0</th>\n",
       "      <td>30</td>\n",
       "      <td>unemployed</td>\n",
       "      <td>married</td>\n",
       "      <td>primary</td>\n",
       "      <td>no</td>\n",
       "      <td>1787</td>\n",
       "      <td>no</td>\n",
       "      <td>no</td>\n",
       "      <td>cellular</td>\n",
       "      <td>19</td>\n",
       "      <td>oct</td>\n",
       "      <td>79</td>\n",
       "      <td>1</td>\n",
       "      <td>-1</td>\n",
       "      <td>0</td>\n",
       "      <td>unknown</td>\n",
       "      <td>no</td>\n",
       "    </tr>\n",
       "    <tr>\n",
       "      <th>1</th>\n",
       "      <td>33</td>\n",
       "      <td>services</td>\n",
       "      <td>married</td>\n",
       "      <td>secondary</td>\n",
       "      <td>no</td>\n",
       "      <td>4789</td>\n",
       "      <td>yes</td>\n",
       "      <td>yes</td>\n",
       "      <td>cellular</td>\n",
       "      <td>11</td>\n",
       "      <td>may</td>\n",
       "      <td>220</td>\n",
       "      <td>1</td>\n",
       "      <td>339</td>\n",
       "      <td>4</td>\n",
       "      <td>failure</td>\n",
       "      <td>no</td>\n",
       "    </tr>\n",
       "    <tr>\n",
       "      <th>2</th>\n",
       "      <td>35</td>\n",
       "      <td>management</td>\n",
       "      <td>single</td>\n",
       "      <td>tertiary</td>\n",
       "      <td>no</td>\n",
       "      <td>1350</td>\n",
       "      <td>yes</td>\n",
       "      <td>no</td>\n",
       "      <td>cellular</td>\n",
       "      <td>16</td>\n",
       "      <td>apr</td>\n",
       "      <td>185</td>\n",
       "      <td>1</td>\n",
       "      <td>330</td>\n",
       "      <td>1</td>\n",
       "      <td>failure</td>\n",
       "      <td>no</td>\n",
       "    </tr>\n",
       "    <tr>\n",
       "      <th>3</th>\n",
       "      <td>30</td>\n",
       "      <td>management</td>\n",
       "      <td>married</td>\n",
       "      <td>tertiary</td>\n",
       "      <td>no</td>\n",
       "      <td>1476</td>\n",
       "      <td>yes</td>\n",
       "      <td>yes</td>\n",
       "      <td>unknown</td>\n",
       "      <td>3</td>\n",
       "      <td>jun</td>\n",
       "      <td>199</td>\n",
       "      <td>4</td>\n",
       "      <td>-1</td>\n",
       "      <td>0</td>\n",
       "      <td>unknown</td>\n",
       "      <td>no</td>\n",
       "    </tr>\n",
       "    <tr>\n",
       "      <th>4</th>\n",
       "      <td>59</td>\n",
       "      <td>blue-collar</td>\n",
       "      <td>married</td>\n",
       "      <td>secondary</td>\n",
       "      <td>no</td>\n",
       "      <td>0</td>\n",
       "      <td>yes</td>\n",
       "      <td>no</td>\n",
       "      <td>unknown</td>\n",
       "      <td>5</td>\n",
       "      <td>may</td>\n",
       "      <td>226</td>\n",
       "      <td>1</td>\n",
       "      <td>-1</td>\n",
       "      <td>0</td>\n",
       "      <td>unknown</td>\n",
       "      <td>no</td>\n",
       "    </tr>\n",
       "  </tbody>\n",
       "</table>\n",
       "</div>"
      ],
      "text/plain": [
       "   age          job  marital  education default  balance housing loan  \\\n",
       "0   30   unemployed  married    primary      no     1787      no   no   \n",
       "1   33     services  married  secondary      no     4789     yes  yes   \n",
       "2   35   management   single   tertiary      no     1350     yes   no   \n",
       "3   30   management  married   tertiary      no     1476     yes  yes   \n",
       "4   59  blue-collar  married  secondary      no        0     yes   no   \n",
       "\n",
       "    contact  day month  duration  campaign  pdays  previous poutcome   y  \n",
       "0  cellular   19   oct        79         1     -1         0  unknown  no  \n",
       "1  cellular   11   may       220         1    339         4  failure  no  \n",
       "2  cellular   16   apr       185         1    330         1  failure  no  \n",
       "3   unknown    3   jun       199         4     -1         0  unknown  no  \n",
       "4   unknown    5   may       226         1     -1         0  unknown  no  "
      ]
     },
     "execution_count": 4,
     "metadata": {},
     "output_type": "execute_result"
    }
   ],
   "source": [
    "bank_marketing.head()"
   ]
  },
  {
   "cell_type": "code",
   "execution_count": 5,
   "metadata": {},
   "outputs": [],
   "source": [
    "raw_features = bank_marketing.drop(columns='y')\n",
    "features = pd.get_dummies(raw_features)\n",
    "target = bank_marketing.y"
   ]
  },
  {
   "cell_type": "code",
   "execution_count": 6,
   "metadata": {},
   "outputs": [
    {
     "data": {
      "text/plain": [
       "Index(['age', 'balance', 'day', 'duration', 'campaign', 'pdays', 'previous',\n",
       "       'job_admin.', 'job_blue-collar', 'job_entrepreneur', 'job_housemaid',\n",
       "       'job_management', 'job_retired', 'job_self-employed', 'job_services',\n",
       "       'job_student', 'job_technician', 'job_unemployed', 'job_unknown',\n",
       "       'marital_divorced', 'marital_married', 'marital_single',\n",
       "       'education_primary', 'education_secondary', 'education_tertiary',\n",
       "       'education_unknown', 'default_no', 'default_yes', 'housing_no',\n",
       "       'housing_yes', 'loan_no', 'loan_yes', 'contact_cellular',\n",
       "       'contact_telephone', 'contact_unknown', 'month_apr', 'month_aug',\n",
       "       'month_dec', 'month_feb', 'month_jan', 'month_jul', 'month_jun',\n",
       "       'month_mar', 'month_may', 'month_nov', 'month_oct', 'month_sep',\n",
       "       'poutcome_failure', 'poutcome_other', 'poutcome_success',\n",
       "       'poutcome_unknown'],\n",
       "      dtype='object')"
      ]
     },
     "execution_count": 6,
     "metadata": {},
     "output_type": "execute_result"
    }
   ],
   "source": [
    "features.columns"
   ]
  },
  {
   "cell_type": "markdown",
   "metadata": {},
   "source": [
    "Para la optimización de parametros haremos una búsqueda grid sobre un \n",
    "espacio de parámetros ()Random Forest con validación de parámetros"
   ]
  },
  {
   "cell_type": "code",
   "execution_count": 7,
   "metadata": {},
   "outputs": [],
   "source": [
    "from sklearn.model_selection import train_test_split\n",
    "from sklearn.ensemble import RandomForestClassifier\n",
    "from sklearn.model_selection import GridSearchCV\n",
    "from sklearn.metrics import accuracy_score, roc_auc_score"
   ]
  },
  {
   "cell_type": "code",
   "execution_count": 8,
   "metadata": {},
   "outputs": [],
   "source": [
    "train_x, test_x, train_y, test_y = train_test_split(features.values,\n",
    "                                                    target.values,\n",
    "                                                    test_size=0.7,\n",
    "                                                    stratify=target.values,\n",
    "                                                    random_state=11\n",
    "                                                    )"
   ]
  },
  {
   "cell_type": "markdown",
   "metadata": {},
   "source": [
    "construimos el objeto eligiendo el número de árboles. Podemos ver los parámetros disponibles con la función *get_params*"
   ]
  },
  {
   "cell_type": "code",
   "execution_count": 9,
   "metadata": {},
   "outputs": [],
   "source": [
    "rforest = RandomForestClassifier(n_estimators=20)"
   ]
  },
  {
   "cell_type": "code",
   "execution_count": 10,
   "metadata": {},
   "outputs": [
    {
     "data": {
      "text/plain": [
       "{'bootstrap': True,\n",
       " 'ccp_alpha': 0.0,\n",
       " 'class_weight': None,\n",
       " 'criterion': 'gini',\n",
       " 'max_depth': None,\n",
       " 'max_features': 'auto',\n",
       " 'max_leaf_nodes': None,\n",
       " 'max_samples': None,\n",
       " 'min_impurity_decrease': 0.0,\n",
       " 'min_impurity_split': None,\n",
       " 'min_samples_leaf': 1,\n",
       " 'min_samples_split': 2,\n",
       " 'min_weight_fraction_leaf': 0.0,\n",
       " 'n_estimators': 20,\n",
       " 'n_jobs': None,\n",
       " 'oob_score': False,\n",
       " 'random_state': None,\n",
       " 'verbose': 0,\n",
       " 'warm_start': False}"
      ]
     },
     "execution_count": 10,
     "metadata": {},
     "output_type": "execute_result"
    }
   ],
   "source": [
    "rforest.get_params()"
   ]
  },
  {
   "cell_type": "markdown",
   "metadata": {},
   "source": [
    "Definimos un espacio de parámetros.  Cada prueba consistirá en una combinación de estos parámetros posibles"
   ]
  },
  {
   "cell_type": "code",
   "execution_count": 11,
   "metadata": {},
   "outputs": [],
   "source": [
    "param_grid = {\n",
    "    'max_features': [2, 3, 5, 8],\n",
    "    'n_estimators': [20, 50, 100]\n",
    "}"
   ]
  },
  {
   "cell_type": "code",
   "execution_count": 12,
   "metadata": {},
   "outputs": [],
   "source": [
    "grid_cv = GridSearchCV(estimator = rforest, \n",
    "                       param_grid = param_grid, \n",
    "                       cv = 5, \n",
    "                       verbose=3)"
   ]
  },
  {
   "cell_type": "code",
   "execution_count": 13,
   "metadata": {},
   "outputs": [
    {
     "name": "stdout",
     "output_type": "stream",
     "text": [
      "Fitting 5 folds for each of 12 candidates, totalling 60 fits\n",
      "[CV 1/5] END ................max_features=2, n_estimators=20; total time=   0.0s\n",
      "[CV 2/5] END ................max_features=2, n_estimators=20; total time=   0.0s\n",
      "[CV 3/5] END ................max_features=2, n_estimators=20; total time=   0.0s\n",
      "[CV 4/5] END ................max_features=2, n_estimators=20; total time=   0.0s\n",
      "[CV 5/5] END ................max_features=2, n_estimators=20; total time=   0.0s\n",
      "[CV 1/5] END ................max_features=2, n_estimators=50; total time=   0.1s\n",
      "[CV 2/5] END ................max_features=2, n_estimators=50; total time=   0.1s\n",
      "[CV 3/5] END ................max_features=2, n_estimators=50; total time=   0.1s\n",
      "[CV 4/5] END ................max_features=2, n_estimators=50; total time=   0.1s\n",
      "[CV 5/5] END ................max_features=2, n_estimators=50; total time=   0.1s\n",
      "[CV 1/5] END ...............max_features=2, n_estimators=100; total time=   0.1s\n",
      "[CV 2/5] END ...............max_features=2, n_estimators=100; total time=   0.1s\n",
      "[CV 3/5] END ...............max_features=2, n_estimators=100; total time=   0.1s\n",
      "[CV 4/5] END ...............max_features=2, n_estimators=100; total time=   0.1s\n",
      "[CV 5/5] END ...............max_features=2, n_estimators=100; total time=   0.1s\n",
      "[CV 1/5] END ................max_features=3, n_estimators=20; total time=   0.0s\n",
      "[CV 2/5] END ................max_features=3, n_estimators=20; total time=   0.0s\n",
      "[CV 3/5] END ................max_features=3, n_estimators=20; total time=   0.0s\n",
      "[CV 4/5] END ................max_features=3, n_estimators=20; total time=   0.0s\n",
      "[CV 5/5] END ................max_features=3, n_estimators=20; total time=   0.0s\n",
      "[CV 1/5] END ................max_features=3, n_estimators=50; total time=   0.1s\n",
      "[CV 2/5] END ................max_features=3, n_estimators=50; total time=   0.1s\n",
      "[CV 3/5] END ................max_features=3, n_estimators=50; total time=   0.1s\n",
      "[CV 4/5] END ................max_features=3, n_estimators=50; total time=   0.1s\n",
      "[CV 5/5] END ................max_features=3, n_estimators=50; total time=   0.1s\n",
      "[CV 1/5] END ...............max_features=3, n_estimators=100; total time=   0.2s\n",
      "[CV 2/5] END ...............max_features=3, n_estimators=100; total time=   0.2s\n",
      "[CV 3/5] END ...............max_features=3, n_estimators=100; total time=   0.2s\n",
      "[CV 4/5] END ...............max_features=3, n_estimators=100; total time=   0.2s\n",
      "[CV 5/5] END ...............max_features=3, n_estimators=100; total time=   0.2s\n",
      "[CV 1/5] END ................max_features=5, n_estimators=20; total time=   0.0s\n",
      "[CV 2/5] END ................max_features=5, n_estimators=20; total time=   0.0s\n",
      "[CV 3/5] END ................max_features=5, n_estimators=20; total time=   0.0s\n",
      "[CV 4/5] END ................max_features=5, n_estimators=20; total time=   0.0s\n",
      "[CV 5/5] END ................max_features=5, n_estimators=20; total time=   0.0s\n",
      "[CV 1/5] END ................max_features=5, n_estimators=50; total time=   0.1s\n",
      "[CV 2/5] END ................max_features=5, n_estimators=50; total time=   0.1s\n",
      "[CV 3/5] END ................max_features=5, n_estimators=50; total time=   0.1s\n",
      "[CV 4/5] END ................max_features=5, n_estimators=50; total time=   0.1s\n",
      "[CV 5/5] END ................max_features=5, n_estimators=50; total time=   0.1s\n",
      "[CV 1/5] END ...............max_features=5, n_estimators=100; total time=   0.2s\n",
      "[CV 2/5] END ...............max_features=5, n_estimators=100; total time=   0.2s\n",
      "[CV 3/5] END ...............max_features=5, n_estimators=100; total time=   0.2s\n",
      "[CV 4/5] END ...............max_features=5, n_estimators=100; total time=   0.2s\n",
      "[CV 5/5] END ...............max_features=5, n_estimators=100; total time=   0.2s\n",
      "[CV 1/5] END ................max_features=8, n_estimators=20; total time=   0.0s\n",
      "[CV 2/5] END ................max_features=8, n_estimators=20; total time=   0.0s\n",
      "[CV 3/5] END ................max_features=8, n_estimators=20; total time=   0.0s\n",
      "[CV 4/5] END ................max_features=8, n_estimators=20; total time=   0.0s\n",
      "[CV 5/5] END ................max_features=8, n_estimators=20; total time=   0.0s\n",
      "[CV 1/5] END ................max_features=8, n_estimators=50; total time=   0.1s\n",
      "[CV 2/5] END ................max_features=8, n_estimators=50; total time=   0.1s\n",
      "[CV 3/5] END ................max_features=8, n_estimators=50; total time=   0.1s\n",
      "[CV 4/5] END ................max_features=8, n_estimators=50; total time=   0.1s\n",
      "[CV 5/5] END ................max_features=8, n_estimators=50; total time=   0.1s\n",
      "[CV 1/5] END ...............max_features=8, n_estimators=100; total time=   0.2s\n",
      "[CV 2/5] END ...............max_features=8, n_estimators=100; total time=   0.2s\n",
      "[CV 3/5] END ...............max_features=8, n_estimators=100; total time=   0.2s\n",
      "[CV 4/5] END ...............max_features=8, n_estimators=100; total time=   0.2s\n",
      "[CV 5/5] END ...............max_features=8, n_estimators=100; total time=   0.2s\n"
     ]
    },
    {
     "data": {
      "text/plain": [
       "GridSearchCV(cv=5, estimator=RandomForestClassifier(n_estimators=20),\n",
       "             param_grid={'max_features': [2, 3, 5, 8],\n",
       "                         'n_estimators': [20, 50, 100]},\n",
       "             verbose=3)"
      ]
     },
     "execution_count": 13,
     "metadata": {},
     "output_type": "execute_result"
    }
   ],
   "source": [
    "grid_cv.fit(train_x, train_y)"
   ]
  },
  {
   "cell_type": "markdown",
   "metadata": {},
   "source": [
    "Identificamos la mejor combinación de parámetros"
   ]
  },
  {
   "cell_type": "code",
   "execution_count": 14,
   "metadata": {},
   "outputs": [
    {
     "data": {
      "text/plain": [
       "{'max_features': 5, 'n_estimators': 50}"
      ]
     },
     "execution_count": 14,
     "metadata": {},
     "output_type": "execute_result"
    }
   ],
   "source": [
    "grid_cv.best_params_"
   ]
  },
  {
   "cell_type": "markdown",
   "metadata": {},
   "source": [
    "El mejor modelo se puede extraer de la siguiente forma"
   ]
  },
  {
   "cell_type": "code",
   "execution_count": 15,
   "metadata": {},
   "outputs": [],
   "source": [
    "best_rf = grid_cv.best_estimator_"
   ]
  },
  {
   "cell_type": "markdown",
   "metadata": {},
   "source": [
    "Evaluación en el conjunto de test"
   ]
  },
  {
   "cell_type": "code",
   "execution_count": 16,
   "metadata": {},
   "outputs": [],
   "source": [
    "pred_y = best_rf.predict(test_x)"
   ]
  },
  {
   "cell_type": "code",
   "execution_count": 17,
   "metadata": {},
   "outputs": [
    {
     "data": {
      "text/plain": [
       "0.8938388625592417"
      ]
     },
     "execution_count": 17,
     "metadata": {},
     "output_type": "execute_result"
    }
   ],
   "source": [
    "accuracy_score(test_y, pred_y)"
   ]
  },
  {
   "cell_type": "markdown",
   "metadata": {},
   "source": [
    "___"
   ]
  },
  {
   "cell_type": "code",
   "execution_count": null,
   "metadata": {},
   "outputs": [],
   "source": []
  }
 ],
 "metadata": {
  "interpreter": {
   "hash": "408b48951804fa4b88b53768b37306a6cb2325d714da557f064422e7ef20b71a"
  },
  "kernelspec": {
   "display_name": "Python 3.8.8 ('base')",
   "language": "python",
   "name": "python3"
  },
  "language_info": {
   "codemirror_mode": {
    "name": "ipython",
    "version": 3
   },
   "file_extension": ".py",
   "mimetype": "text/x-python",
   "name": "python",
   "nbconvert_exporter": "python",
   "pygments_lexer": "ipython3",
   "version": "3.8.8"
  }
 },
 "nbformat": 4,
 "nbformat_minor": 2
}
